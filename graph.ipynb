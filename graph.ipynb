{
 "cells": [
  {
   "cell_type": "code",
   "execution_count": 10,
   "metadata": {},
   "outputs": [],
   "source": [
    "import os\n",
    "from dotenv import load_dotenv\n",
    "\n",
    "# 載入 .env 檔案中的環境變數\n",
    "load_dotenv()\n",
    "\n",
    "# 將 API key 設定為 os 變數\n",
    "os.environ[\"OPENAI_API_KEY\"] = os.getenv(\"OPENAI_API_KEY\")  # 或者可以使用 GOOGLE_API_KEY\n"
   ]
  },
  {
   "cell_type": "code",
   "execution_count": null,
   "metadata": {},
   "outputs": [
    {
     "ename": "PydanticUserError",
     "evalue": "Field 'name' defined on a base class was overridden by a non-annotated attribute. All field definitions, including overrides, require a type annotation.\n\nFor further information visit https://errors.pydantic.dev/2.10/u/model-field-overridden",
     "output_type": "error",
     "traceback": [
      "\u001b[31m---------------------------------------------------------------------------\u001b[39m",
      "\u001b[31mPydanticUserError\u001b[39m                         Traceback (most recent call last)",
      "\u001b[36mCell\u001b[39m\u001b[36m \u001b[39m\u001b[32mIn[31]\u001b[39m\u001b[32m, line 16\u001b[39m\n\u001b[32m     13\u001b[39m         s.write(\u001b[33m'\u001b[39m\u001b[33mmidi\u001b[39m\u001b[33m'\u001b[39m, fp=\u001b[33m'\u001b[39m\u001b[33moutput.mid\u001b[39m\u001b[33m'\u001b[39m)\n\u001b[32m     14\u001b[39m         \u001b[38;5;28;01mreturn\u001b[39;00m \u001b[33m'\u001b[39m\u001b[33moutput.mid\u001b[39m\u001b[33m'\u001b[39m\n\u001b[32m---> \u001b[39m\u001b[32m16\u001b[39m \u001b[38;5;28;43;01mclass\u001b[39;49;00m\u001b[38;5;250;43m \u001b[39;49m\u001b[34;43;01mStructureGeneratorTool\u001b[39;49;00m\u001b[43m(\u001b[49m\u001b[43mBaseTool\u001b[49m\u001b[43m)\u001b[49m\u001b[43m:\u001b[49m\n\u001b[32m     17\u001b[39m \u001b[43m    \u001b[49m\u001b[43mname\u001b[49m\u001b[43m \u001b[49m\u001b[43m=\u001b[49m\u001b[43m \u001b[49m\u001b[33;43m\"\u001b[39;49m\u001b[33;43mstructure_generator\u001b[39;49m\u001b[33;43m\"\u001b[39;49m\n\u001b[32m     18\u001b[39m \u001b[43m    \u001b[49m\u001b[43mdescription\u001b[49m\u001b[43m \u001b[49m\u001b[43m=\u001b[49m\u001b[43m \u001b[49m\u001b[33;43m\"\u001b[39;49m\u001b[33;43mGenerates musical structure using GPT-4.\u001b[39;49m\u001b[33;43m\"\u001b[39;49m\n",
      "\u001b[36mFile \u001b[39m\u001b[32m~/Desktop/Proj/test/venv/lib/python3.11/site-packages/pydantic/_internal/_model_construction.py:113\u001b[39m, in \u001b[36mModelMetaclass.__new__\u001b[39m\u001b[34m(mcs, cls_name, bases, namespace, __pydantic_generic_metadata__, __pydantic_reset_parent_namespace__, _create_model_module, **kwargs)\u001b[39m\n\u001b[32m    111\u001b[39m config_wrapper = ConfigWrapper.for_model(bases, namespace, kwargs)\n\u001b[32m    112\u001b[39m namespace[\u001b[33m'\u001b[39m\u001b[33mmodel_config\u001b[39m\u001b[33m'\u001b[39m] = config_wrapper.config_dict\n\u001b[32m--> \u001b[39m\u001b[32m113\u001b[39m private_attributes = \u001b[43minspect_namespace\u001b[49m\u001b[43m(\u001b[49m\n\u001b[32m    114\u001b[39m \u001b[43m    \u001b[49m\u001b[43mnamespace\u001b[49m\u001b[43m,\u001b[49m\u001b[43m \u001b[49m\u001b[43mconfig_wrapper\u001b[49m\u001b[43m.\u001b[49m\u001b[43mignored_types\u001b[49m\u001b[43m,\u001b[49m\u001b[43m \u001b[49m\u001b[43mclass_vars\u001b[49m\u001b[43m,\u001b[49m\u001b[43m \u001b[49m\u001b[43mbase_field_names\u001b[49m\n\u001b[32m    115\u001b[39m \u001b[43m\u001b[49m\u001b[43m)\u001b[49m\n\u001b[32m    116\u001b[39m \u001b[38;5;28;01mif\u001b[39;00m private_attributes \u001b[38;5;129;01mor\u001b[39;00m base_private_attributes:\n\u001b[32m    117\u001b[39m     original_model_post_init = get_model_post_init(namespace, bases)\n",
      "\u001b[36mFile \u001b[39m\u001b[32m~/Desktop/Proj/test/venv/lib/python3.11/site-packages/pydantic/_internal/_model_construction.py:440\u001b[39m, in \u001b[36minspect_namespace\u001b[39m\u001b[34m(namespace, ignored_types, base_class_vars, base_class_fields)\u001b[39m\n\u001b[32m    438\u001b[39m \u001b[38;5;28;01melif\u001b[39;00m var_name \u001b[38;5;129;01mnot\u001b[39;00m \u001b[38;5;129;01min\u001b[39;00m raw_annotations:\n\u001b[32m    439\u001b[39m     \u001b[38;5;28;01mif\u001b[39;00m var_name \u001b[38;5;129;01min\u001b[39;00m base_class_fields:\n\u001b[32m--> \u001b[39m\u001b[32m440\u001b[39m         \u001b[38;5;28;01mraise\u001b[39;00m PydanticUserError(\n\u001b[32m    441\u001b[39m             \u001b[33mf\u001b[39m\u001b[33m'\u001b[39m\u001b[33mField \u001b[39m\u001b[38;5;132;01m{\u001b[39;00mvar_name\u001b[38;5;132;01m!r}\u001b[39;00m\u001b[33m defined on a base class was overridden by a non-annotated attribute. \u001b[39m\u001b[33m'\u001b[39m\n\u001b[32m    442\u001b[39m             \u001b[33mf\u001b[39m\u001b[33m'\u001b[39m\u001b[33mAll field definitions, including overrides, require a type annotation.\u001b[39m\u001b[33m'\u001b[39m,\n\u001b[32m    443\u001b[39m             code=\u001b[33m'\u001b[39m\u001b[33mmodel-field-overridden\u001b[39m\u001b[33m'\u001b[39m,\n\u001b[32m    444\u001b[39m         )\n\u001b[32m    445\u001b[39m     \u001b[38;5;28;01melif\u001b[39;00m \u001b[38;5;28misinstance\u001b[39m(value, FieldInfo):\n\u001b[32m    446\u001b[39m         \u001b[38;5;28;01mraise\u001b[39;00m PydanticUserError(\n\u001b[32m    447\u001b[39m             \u001b[33mf\u001b[39m\u001b[33m'\u001b[39m\u001b[33mField \u001b[39m\u001b[38;5;132;01m{\u001b[39;00mvar_name\u001b[38;5;132;01m!r}\u001b[39;00m\u001b[33m requires a type annotation\u001b[39m\u001b[33m'\u001b[39m, code=\u001b[33m'\u001b[39m\u001b[33mmodel-field-missing-annotation\u001b[39m\u001b[33m'\u001b[39m\n\u001b[32m    448\u001b[39m         )\n",
      "\u001b[31mPydanticUserError\u001b[39m: Field 'name' defined on a base class was overridden by a non-annotated attribute. All field definitions, including overrides, require a type annotation.\n\nFor further information visit https://errors.pydantic.dev/2.10/u/model-field-overridden"
     ]
    }
   ],
   "source": [
    "from langchain.tools import BaseTool\n",
    "from music21 import stream, chord\n",
    "from typing import TypedDict, Optional\n",
    "\n",
    "\n",
    "class Music21RendererTool(BaseTool):\n",
    "    name: str = \"music21_renderer\"\n",
    "    description: str = \"Renders chords into MIDI files using Music21.\"\n",
    "    \n",
    "    def _run(self, chords: list) -> str:\n",
    "        s = stream.Stream()\n",
    "        for c in chords:\n",
    "            s.append(chord.Chord(c))\n",
    "        s.write('midi', fp='output.mid')\n",
    "        return 'output.mid'\n",
    "    \n",
    "class StructureGeneratorTool(BaseTool):\n",
    "    name = \"structure_generator\"\n",
    "    description = \"Generates musical structure using GPT-4.\"\n",
    "    \n",
    "    def _run(self, user_input: str) -> list:\n",
    "        # 假設調用 GPT-4 API\n",
    "        structure = [\"verse\", \"chorus\", \"verse\"]  # 示例輸出\n",
    "        return structure\n",
    "    \n",
    "class MusicTheoryValidatorTool(BaseTool):\n",
    "    name = \"music_theory_validator\"\n",
    "    description = \"Validates chord progressions based on music theory.\"\n",
    "    forbidden = ['V-IV', 'ii-VII']\n",
    "    \n",
    "    def _run(self, chords: list) -> dict:\n",
    "        for i in range(len(chords)-1):\n",
    "            transition = f\"{chords[i]}-{chords[i+1]}\"\n",
    "            if transition in self.forbidden:\n",
    "                return {\"valid\": False, \"error\": f\"禁止进行: {transition}\"}\n",
    "        return {\"valid\": True}\n",
    "\n",
    "\n",
    "class State(TypedDict):\n",
    "    user_input: str\n",
    "    structure: Optional[list]\n",
    "    chords: Optional[list]\n",
    "    validation_result: Optional[dict]\n",
    "    rendered_midi: Optional[str]\n",
    "    current_step: str"
   ]
  },
  {
   "cell_type": "code",
   "execution_count": 15,
   "metadata": {},
   "outputs": [
    {
     "ename": "NameError",
     "evalue": "name 'State' is not defined",
     "output_type": "error",
     "traceback": [
      "\u001b[31m---------------------------------------------------------------------------\u001b[39m",
      "\u001b[31mNameError\u001b[39m                                 Traceback (most recent call last)",
      "\u001b[36mCell\u001b[39m\u001b[36m \u001b[39m\u001b[32mIn[15]\u001b[39m\u001b[32m, line 19\u001b[39m\n\u001b[32m     17\u001b[39m         state[\u001b[33m\"\u001b[39m\u001b[33mcurrent_step\u001b[39m\u001b[33m\"\u001b[39m] = \u001b[33m\"\u001b[39m\u001b[33mgenerate_chords\u001b[39m\u001b[33m\"\u001b[39m\n\u001b[32m     18\u001b[39m         \u001b[38;5;28;01mreturn\u001b[39;00m \u001b[33m\"\u001b[39m\u001b[33mstate_router\u001b[39m\u001b[33m\"\u001b[39m\n\u001b[32m---> \u001b[39m\u001b[32m19\u001b[39m workflow = StateGraph(initial_state=\u001b[43mState\u001b[49m(user_input=\u001b[33m\"\u001b[39m\u001b[33m生成一首流行歌曲\u001b[39m\u001b[33m\"\u001b[39m, current_step=\u001b[33m\"\u001b[39m\u001b[33mdesign_framework\u001b[39m\u001b[33m\"\u001b[39m))\n\u001b[32m     21\u001b[39m \u001b[38;5;66;03m# 添加節點\u001b[39;00m\n\u001b[32m     22\u001b[39m workflow.add_node(\u001b[33m\"\u001b[39m\u001b[33mconductor\u001b[39m\u001b[33m\"\u001b[39m, \u001b[38;5;28;01mlambda\u001b[39;00m state: state)  \u001b[38;5;66;03m# 簡化示例\u001b[39;00m\n",
      "\u001b[31mNameError\u001b[39m: name 'State' is not defined"
     ]
    }
   ],
   "source": [
    "from langgraph.graph import StateGraph\n",
    "\n",
    "def structure_node(state):\n",
    "    tool = StructureGeneratorTool()\n",
    "    state[\"structure\"] = tool._run(state[\"user_input\"])\n",
    "    state[\"current_step\"] = \"generate_chords\"\n",
    "    return state\n",
    "def validation_node(state):\n",
    "    tool = MusicTheoryValidatorTool()\n",
    "    state[\"validation_result\"] = tool._run(state[\"chords\"])\n",
    "    return state\n",
    "\n",
    "def validation_router(state):\n",
    "    if state[\"validation_result\"][\"valid\"]:\n",
    "        return \"render\"\n",
    "    else:\n",
    "        state[\"current_step\"] = \"generate_chords\"\n",
    "        return \"state_router\"\n",
    "workflow = StateGraph(initial_state=State(user_input=\"生成一首流行歌曲\", current_step=\"design_framework\"))\n",
    "\n",
    "# 添加節點\n",
    "workflow.add_node(\"conductor\", lambda state: state)  # 簡化示例\n",
    "workflow.add_node(\"state_router\", lambda state: state)\n",
    "workflow.add_node(\"structure_generator\", structure_node)\n",
    "workflow.add_node(\"spectral_expert\", lambda state: {\"chords\": [\"C\", \"G\", \"Am\", \"F\"]})\n",
    "workflow.add_node(\"music_theory_validator\", validation_node)\n",
    "workflow.add_node(\"music21_renderer\", lambda state: {\"rendered_midi\": \"output.mid\"})\n",
    "\n",
    "# 添加邊\n",
    "workflow.add_edge(\"conductor\", \"state_router\")\n",
    "workflow.add_conditional_edges(\"state_router\", lambda state: state[\"current_step\"], {\n",
    "    \"design_framework\": \"structure_generator\",\n",
    "    \"generate_chords\": \"spectral_expert\",\n",
    "    \"validate\": \"music_theory_validator\"\n",
    "})\n",
    "workflow.add_edge(\"structure_generator\", \"state_router\")\n",
    "workflow.add_edge(\"spectral_expert\", \"state_router\")\n",
    "workflow.add_conditional_edges(\"music_theory_validator\", validation_router, {\n",
    "    \"render\": \"music21_renderer\",\n",
    "    \"state_router\": \"state_router\"\n",
    "})\n",
    "\n",
    "# 編譯並運行\n",
    "app = workflow.compile()\n",
    "final_state = app.run()"
   ]
  }
 ],
 "metadata": {
  "kernelspec": {
   "display_name": "venv",
   "language": "python",
   "name": "python3"
  },
  "language_info": {
   "codemirror_mode": {
    "name": "ipython",
    "version": 3
   },
   "file_extension": ".py",
   "mimetype": "text/x-python",
   "name": "python",
   "nbconvert_exporter": "python",
   "pygments_lexer": "ipython3",
   "version": "3.11.10"
  }
 },
 "nbformat": 4,
 "nbformat_minor": 2
}
